{
  "nbformat": 4,
  "nbformat_minor": 0,
  "metadata": {
    "colab": {
      "name": "aim05_twitter-sentiment-analysis.ipynb",
      "provenance": [],
      "collapsed_sections": [
        "gbFZZGuH5aSx"
      ]
    },
    "kernelspec": {
      "name": "python3",
      "display_name": "Python 3"
    },
    "accelerator": "GPU"
  },
  "cells": [
    {
      "cell_type": "markdown",
      "metadata": {
        "id": "bvMUT_DtmoTj"
      },
      "source": [
        "# Twitter sentiment analysis\r\n",
        "\r\n",
        "Dataset from: http://help.sentiment140.com/for-students/ and also https://www.kaggle.com/kazanova/sentiment140 \r\n",
        "\r\n",
        "Code **based on:** https://www.kaggle.com/arunrk7/nlp-beginner-text-classification-using-lstm - please also check this notebook for more comments to what is happening.\r\n",
        "\r\n",
        "**Added:** inference with the trained model, scripts to download data more easily to a Colab, some tricks to shorted the time needed to train the model (results will not be the best, but they can be shown during an online session...).\r\n",
        "\r\n",
        "\r\n",
        "*PS: there was a paper released with this dataset, check it here [TwitterDistantSupervision09.pdf](https://www-cs.stanford.edu/people/alecmgo/papers/TwitterDistantSupervision09.pdf)*"
      ]
    },
    {
      "cell_type": "markdown",
      "metadata": {
        "id": "uOG6z8yG4UbA"
      },
      "source": [
        "## TL;DR\n",
        "\n",
        "\n",
        "\n",
        "\n",
        "1.   1st we download data (from Stanford dataset of labelled Twitter data)\n",
        "2.   Then we load and pre-process it (text 2 vector)\n",
        "3.   Finally we make a simple model and train it!\n",
        "4.   (Bonus) We show how we can interact with the trained model - basically use it for inference.\n",
        "\n",
        "\n"
      ]
    },
    {
      "cell_type": "markdown",
      "metadata": {
        "id": "l38mWofX5C6i"
      },
      "source": [
        "## 1 Get data"
      ]
    },
    {
      "cell_type": "code",
      "metadata": {
        "id": "zGFXRyHomxw0",
        "colab": {
          "base_uri": "https://localhost:8080/"
        },
        "outputId": "7c5f8931-3daa-4f1f-9660-1ca109aec5cc"
      },
      "source": [
        "# download data\r\n",
        "!wget http://cs.stanford.edu/people/alecmgo/trainingandtestdata.zip\r\n",
        "!unzip -q trainingandtestdata.zip"
      ],
      "execution_count": null,
      "outputs": [
        {
          "output_type": "stream",
          "text": [
            "--2021-02-15 11:48:21--  http://cs.stanford.edu/people/alecmgo/trainingandtestdata.zip\n",
            "Resolving cs.stanford.edu (cs.stanford.edu)... 171.64.64.64\n",
            "Connecting to cs.stanford.edu (cs.stanford.edu)|171.64.64.64|:80... connected.\n",
            "HTTP request sent, awaiting response... 301 Moved Permanently\n",
            "Location: https://cs.stanford.edu/people/alecmgo/trainingandtestdata.zip [following]\n",
            "--2021-02-15 11:48:21--  https://cs.stanford.edu/people/alecmgo/trainingandtestdata.zip\n",
            "Connecting to cs.stanford.edu (cs.stanford.edu)|171.64.64.64|:443... connected.\n",
            "HTTP request sent, awaiting response... 200 OK\n",
            "Length: 81363704 (78M) [application/zip]\n",
            "Saving to: ‘trainingandtestdata.zip’\n",
            "\n",
            "trainingandtestdata 100%[===================>]  77.59M  31.4MB/s    in 2.5s    \n",
            "\n",
            "2021-02-15 11:48:24 (31.4 MB/s) - ‘trainingandtestdata.zip’ saved [81363704/81363704]\n",
            "\n"
          ],
          "name": "stdout"
        }
      ]
    },
    {
      "cell_type": "code",
      "metadata": {
        "colab": {
          "base_uri": "https://localhost:8080/"
        },
        "id": "Vm8wXW41nehQ",
        "outputId": "3cbe9cb6-5903-46c5-9595-9d99ec3a7dd0"
      },
      "source": [
        "#!ls -luah training.1600000.processed.noemoticon.csv\r\n",
        "!ls -luah"
      ],
      "execution_count": null,
      "outputs": [
        {
          "output_type": "stream",
          "text": [
            "total 306M\n",
            "drwxr-xr-x 1 root root 4.0K Feb 15 11:51 .\n",
            "drwxr-xr-x 1 root root 4.0K Feb 15 11:45 ..\n",
            "drwxr-xr-x 1 root root 4.0K Feb 11 17:31 .config\n",
            "drwxr-xr-x 1 root root 4.0K Feb 11 16:59 sample_data\n",
            "-rw-r--r-- 1 root root  73K Mar  4  2010 testdata.manual.2009.06.14.csv\n",
            "-rw-r--r-- 1 root root 228M Feb 15 11:50 training.1600000.processed.noemoticon.csv\n",
            "-rw-r--r-- 1 root root  78M Feb 15 11:48 trainingandtestdata.zip\n"
          ],
          "name": "stdout"
        }
      ]
    },
    {
      "cell_type": "code",
      "metadata": {
        "id": "9hcevpx_nh_j"
      },
      "source": [
        "\"\"\"\r\n",
        "What is the format of the training data?\r\n",
        "The data is a CSV with emoticons removed. Data file format has 6 fields:\r\n",
        "0 - the polarity of the tweet (0 = negative, 2 = neutral, 4 = positive)\r\n",
        "1 - the id of the tweet (2087)\r\n",
        "2 - the date of the tweet (Sat May 16 23:58:44 UTC 2009)\r\n",
        "3 - the query (lyx). If there is no query, then this value is NO_QUERY.\r\n",
        "4 - the user that tweeted (robotickilldozr)\r\n",
        "5 - the text of the tweet (Lyx is cool)\r\n",
        "\"\"\""
      ],
      "execution_count": null,
      "outputs": []
    },
    {
      "cell_type": "code",
      "metadata": {
        "colab": {
          "base_uri": "https://localhost:8080/"
        },
        "id": "4_fSpzFO6Sgg",
        "outputId": "0aa15c21-ed45-41f7-8ee3-2ba6edc1a8ce"
      },
      "source": [
        "# directly output the \"tail\"\n",
        "!tail training.1600000.processed.noemoticon.csv"
      ],
      "execution_count": null,
      "outputs": [
        {
          "output_type": "stream",
          "text": [
            "\"4\",\"2193579249\",\"Tue Jun 16 08:38:59 PDT 2009\",\"NO_QUERY\",\"razzberry5594\",\"WOOOOO! Xbox is back \"\n",
            "\"4\",\"2193579284\",\"Tue Jun 16 08:38:59 PDT 2009\",\"NO_QUERY\",\"AgustinaP\",\"@rmedina @LaTati Mmmm  That sounds absolutely perfect... but my schedule is full. I won't have time to lay in bed until Sunday. Ugh!!\"\n",
            "\"4\",\"2193579434\",\"Tue Jun 16 08:39:00 PDT 2009\",\"NO_QUERY\",\"sdancingsteph\",\"ReCoVeRiNg FrOm ThE lOnG wEeKeNd \"\n",
            "\"4\",\"2193579477\",\"Tue Jun 16 08:39:00 PDT 2009\",\"NO_QUERY\",\"ChloeAmisha\",\"@SCOOBY_GRITBOYS \"\n",
            "\"4\",\"2193579489\",\"Tue Jun 16 08:39:00 PDT 2009\",\"NO_QUERY\",\"EvolveTom\",\"@Cliff_Forster Yeah, that does work better than just waiting for it  In the end I just wonder if I have time to keep up a good blog.\"\n",
            "\"4\",\"2193601966\",\"Tue Jun 16 08:40:49 PDT 2009\",\"NO_QUERY\",\"AmandaMarie1028\",\"Just woke up. Having no school is the best feeling ever \"\n",
            "\"4\",\"2193601969\",\"Tue Jun 16 08:40:49 PDT 2009\",\"NO_QUERY\",\"TheWDBoards\",\"TheWDB.com - Very cool to hear old Walt interviews!  ♫ http://blip.fm/~8bmta\"\n",
            "\"4\",\"2193601991\",\"Tue Jun 16 08:40:49 PDT 2009\",\"NO_QUERY\",\"bpbabe\",\"Are you ready for your MoJo Makeover? Ask me for details \"\n",
            "\"4\",\"2193602064\",\"Tue Jun 16 08:40:49 PDT 2009\",\"NO_QUERY\",\"tinydiamondz\",\"Happy 38th Birthday to my boo of alll time!!! Tupac Amaru Shakur \"\n",
            "\"4\",\"2193602129\",\"Tue Jun 16 08:40:50 PDT 2009\",\"NO_QUERY\",\"RyanTrevMorris\",\"happy #charitytuesday @theNSPCC @SparksCharity @SpeakingUpH4H \"\n"
          ],
          "name": "stdout"
        }
      ]
    },
    {
      "cell_type": "markdown",
      "metadata": {
        "id": "i6zXTqX3ns5X"
      },
      "source": [
        "## 2a. Load data"
      ]
    },
    {
      "cell_type": "code",
      "metadata": {
        "colab": {
          "base_uri": "https://localhost:8080/"
        },
        "id": "Ne0jk8Munoay",
        "outputId": "20f5b80a-e28a-47c8-b9b9-9a92bb9cc355"
      },
      "source": [
        "import tensorflow as tf\r\n",
        "import matplotlib.pyplot as plt\r\n",
        "import pandas as pd\r\n",
        "import numpy as np\r\n",
        "\r\n",
        "import nltk \r\n",
        "nltk.download('stopwords')\r\n",
        "from nltk.corpus import stopwords\r\n",
        "from nltk.stem import SnowballStemmer\r\n",
        "\r\n",
        "from sklearn.model_selection import train_test_split\r\n",
        "from sklearn.preprocessing import LabelEncoder\r\n",
        "\r\n",
        "import re\r\n",
        "\r\n",
        "print(\"Tensorflow Version\",tf.__version__)"
      ],
      "execution_count": null,
      "outputs": [
        {
          "output_type": "stream",
          "text": [
            "[nltk_data] Downloading package stopwords to /root/nltk_data...\n",
            "[nltk_data]   Unzipping corpora/stopwords.zip.\n",
            "Tensorflow Version 2.4.1\n"
          ],
          "name": "stdout"
        }
      ]
    },
    {
      "cell_type": "code",
      "metadata": {
        "colab": {
          "base_uri": "https://localhost:8080/",
          "height": 195
        },
        "id": "synqbzMFnzKN",
        "outputId": "1ee9c59d-9520-4b84-ae43-7b667fe3e972"
      },
      "source": [
        "df = pd.read_csv('/content/training.1600000.processed.noemoticon.csv',\r\n",
        "                 encoding = 'latin',header=None)\r\n",
        "df.columns = ['sentiment', 'id', 'date', 'query', 'user_id', 'text']\r\n",
        "df = df.drop(['id', 'date', 'query', 'user_id'], axis=1)\r\n",
        "\r\n",
        "lab_to_sentiment = {0:\"Negative\", 4:\"Positive\"}\r\n",
        "def label_decoder(label):\r\n",
        "  return lab_to_sentiment[label]\r\n",
        "df.sentiment = df.sentiment.apply(lambda x: label_decoder(x))\r\n",
        "\r\n",
        "df.head()"
      ],
      "execution_count": null,
      "outputs": [
        {
          "output_type": "execute_result",
          "data": {
            "text/html": [
              "<div>\n",
              "<style scoped>\n",
              "    .dataframe tbody tr th:only-of-type {\n",
              "        vertical-align: middle;\n",
              "    }\n",
              "\n",
              "    .dataframe tbody tr th {\n",
              "        vertical-align: top;\n",
              "    }\n",
              "\n",
              "    .dataframe thead th {\n",
              "        text-align: right;\n",
              "    }\n",
              "</style>\n",
              "<table border=\"1\" class=\"dataframe\">\n",
              "  <thead>\n",
              "    <tr style=\"text-align: right;\">\n",
              "      <th></th>\n",
              "      <th>sentiment</th>\n",
              "      <th>text</th>\n",
              "    </tr>\n",
              "  </thead>\n",
              "  <tbody>\n",
              "    <tr>\n",
              "      <th>0</th>\n",
              "      <td>Negative</td>\n",
              "      <td>@switchfoot http://twitpic.com/2y1zl - Awww, t...</td>\n",
              "    </tr>\n",
              "    <tr>\n",
              "      <th>1</th>\n",
              "      <td>Negative</td>\n",
              "      <td>is upset that he can't update his Facebook by ...</td>\n",
              "    </tr>\n",
              "    <tr>\n",
              "      <th>2</th>\n",
              "      <td>Negative</td>\n",
              "      <td>@Kenichan I dived many times for the ball. Man...</td>\n",
              "    </tr>\n",
              "    <tr>\n",
              "      <th>3</th>\n",
              "      <td>Negative</td>\n",
              "      <td>my whole body feels itchy and like its on fire</td>\n",
              "    </tr>\n",
              "    <tr>\n",
              "      <th>4</th>\n",
              "      <td>Negative</td>\n",
              "      <td>@nationwideclass no, it's not behaving at all....</td>\n",
              "    </tr>\n",
              "  </tbody>\n",
              "</table>\n",
              "</div>"
            ],
            "text/plain": [
              "  sentiment                                               text\n",
              "0  Negative  @switchfoot http://twitpic.com/2y1zl - Awww, t...\n",
              "1  Negative  is upset that he can't update his Facebook by ...\n",
              "2  Negative  @Kenichan I dived many times for the ball. Man...\n",
              "3  Negative    my whole body feels itchy and like its on fire \n",
              "4  Negative  @nationwideclass no, it's not behaving at all...."
            ]
          },
          "metadata": {
            "tags": []
          },
          "execution_count": 17
        }
      ]
    },
    {
      "cell_type": "code",
      "metadata": {
        "colab": {
          "base_uri": "https://localhost:8080/",
          "height": 298
        },
        "id": "ojonJOESoFE_",
        "outputId": "c0dacbe5-f618-4acd-c62c-37331da364e6"
      },
      "source": [
        "# visualization of the distribution of the two classes\r\n",
        "val_count = df.sentiment.value_counts()\r\n",
        "\r\n",
        "plt.figure(figsize=(8,4))\r\n",
        "plt.bar(val_count.index, val_count.values)\r\n",
        "plt.title(\"Sentiment Data Distribution\")"
      ],
      "execution_count": null,
      "outputs": [
        {
          "output_type": "execute_result",
          "data": {
            "text/plain": [
              "Text(0.5, 1.0, 'Sentiment Data Distribution')"
            ]
          },
          "metadata": {
            "tags": []
          },
          "execution_count": 18
        },
        {
          "output_type": "display_data",
          "data": {
            "image/png": "[encoded data removed]",
            "text/plain": [
              "<Figure size 576x288 with 1 Axes>"
            ]
          },
          "metadata": {
            "tags": [],
            "needs_background": "light"
          }
        }
      ]
    },
    {
      "cell_type": "code",
      "metadata": {
        "id": "CO3dLmEFoJhN"
      },
      "source": [
        "# random 10 samples?\r\n",
        "\r\n",
        "#import random\r\n",
        "#random_idx_list = [random.randint(1,len(df.text)) for i in range(10)] # creates random indexes to choose from dataframe\r\n",
        "#df.loc[random_idx_list,:].head(10) # Returns the rows with the index and display it"
      ],
      "execution_count": null,
      "outputs": []
    },
    {
      "cell_type": "markdown",
      "metadata": {
        "id": "n_MvoYw4oT5M"
      },
      "source": [
        "## 2b. Text cleanup, tokenization, pre-processing"
      ]
    },
    {
      "cell_type": "code",
      "metadata": {
        "id": "aflj2EkFoTMQ"
      },
      "source": [
        "stop_words = stopwords.words('english')\r\n",
        "stemmer = SnowballStemmer('english')\r\n",
        "\r\n",
        "text_cleaning_re = \"@\\S+|https?:\\S+|http?:\\S|[^A-Za-z0-9]+\"\r\n",
        "\r\n",
        "def preprocess(text, stem=False):\r\n",
        "  text = re.sub(text_cleaning_re, ' ', str(text).lower()).strip()\r\n",
        "  tokens = []\r\n",
        "  for token in text.split():\r\n",
        "    if token not in stop_words:\r\n",
        "      if stem:\r\n",
        "        tokens.append(stemmer.stem(token))\r\n",
        "      else:\r\n",
        "        tokens.append(token)\r\n",
        "  return \" \".join(tokens)"
      ],
      "execution_count": null,
      "outputs": []
    },
    {
      "cell_type": "code",
      "metadata": {
        "id": "fVGqoXjhocKm"
      },
      "source": [
        "# takes some time ...\r\n",
        "df.text = df.text.apply(lambda x: preprocess(x))"
      ],
      "execution_count": null,
      "outputs": []
    },
    {
      "cell_type": "code",
      "metadata": {
        "id": "z-_EvF7cojSq"
      },
      "source": [
        "# fancy plots :)\r\n",
        "\r\n",
        "\"\"\"\r\n",
        "from wordcloud import WordCloud\r\n",
        "\r\n",
        "plt.figure(figsize = (15,15)) \r\n",
        "wc = WordCloud(max_words = 2000 , width = 1600 , height = 800).generate(\" \".join(df[df.sentiment == 'Positive'].text))\r\n",
        "plt.imshow(wc , interpolation = 'bilinear')\r\n",
        "\r\n",
        "plt.figure(figsize = (15,15)) \r\n",
        "wc = WordCloud(max_words = 2000 , width = 1600 , height = 800).generate(\" \".join(df[df.sentiment == 'Negative'].text))\r\n",
        "plt.imshow(wc , interpolation = 'bilinear')\r\n",
        "\"\"\""
      ],
      "execution_count": null,
      "outputs": []
    },
    {
      "cell_type": "code",
      "metadata": {
        "colab": {
          "base_uri": "https://localhost:8080/"
        },
        "id": "SFly4W6uoc0e",
        "outputId": "c7395d20-18ee-480f-b7f7-0f1008e2e80f"
      },
      "source": [
        "# ps: we have a full train-test set in the downloaded files from http://cs.stanford.edu/people/alecmgo/trainingandtestdata.zip\r\n",
        "#     but we can also just split the loaded and preprocessed data ....\r\n",
        "\r\n",
        "TRAIN_SIZE = 0.8            ### < 80% training dataset, 20% test dataset\r\n",
        "MAX_SEQUENCE_LENGTH = 30    ### <<< cut anything longer than this ...\r\n",
        "\r\n",
        "train_data, test_data = train_test_split(df, test_size=1-TRAIN_SIZE,\r\n",
        "                                         random_state=8) # Splits Dataset into Training and Testing set\r\n",
        "print(\"Train Data size:\", len(train_data))\r\n",
        "print(\"Test Data size\", len(test_data))"
      ],
      "execution_count": null,
      "outputs": [
        {
          "output_type": "stream",
          "text": [
            "Train Data size: 1280000\n",
            "Test Data size 320000\n"
          ],
          "name": "stdout"
        }
      ]
    },
    {
      "cell_type": "code",
      "metadata": {
        "colab": {
          "base_uri": "https://localhost:8080/",
          "height": 343
        },
        "id": "n0n86e32oxzo",
        "outputId": "cf0bb46e-1eb0-4ba8-bac8-bed1c3932103"
      },
      "source": [
        "train_data.head(10)"
      ],
      "execution_count": null,
      "outputs": [
        {
          "output_type": "execute_result",
          "data": {
            "text/html": [
              "<div>\n",
              "<style scoped>\n",
              "    .dataframe tbody tr th:only-of-type {\n",
              "        vertical-align: middle;\n",
              "    }\n",
              "\n",
              "    .dataframe tbody tr th {\n",
              "        vertical-align: top;\n",
              "    }\n",
              "\n",
              "    .dataframe thead th {\n",
              "        text-align: right;\n",
              "    }\n",
              "</style>\n",
              "<table border=\"1\" class=\"dataframe\">\n",
              "  <thead>\n",
              "    <tr style=\"text-align: right;\">\n",
              "      <th></th>\n",
              "      <th>sentiment</th>\n",
              "      <th>text</th>\n",
              "    </tr>\n",
              "  </thead>\n",
              "  <tbody>\n",
              "    <tr>\n",
              "      <th>1595298</th>\n",
              "      <td>Positive</td>\n",
              "      <td>yeah would agree</td>\n",
              "    </tr>\n",
              "    <tr>\n",
              "      <th>493942</th>\n",
              "      <td>Negative</td>\n",
              "      <td>faa intentions pilot safety training well reci...</td>\n",
              "    </tr>\n",
              "    <tr>\n",
              "      <th>868755</th>\n",
              "      <td>Positive</td>\n",
              "      <td>think time early night 1 2 eps family guy bed</td>\n",
              "    </tr>\n",
              "    <tr>\n",
              "      <th>892931</th>\n",
              "      <td>Positive</td>\n",
              "      <td>chicken eat much steak</td>\n",
              "    </tr>\n",
              "    <tr>\n",
              "      <th>1596441</th>\n",
              "      <td>Positive</td>\n",
              "      <td>woohoo faith play dublin august excellent feel...</td>\n",
              "    </tr>\n",
              "    <tr>\n",
              "      <th>1588349</th>\n",
              "      <td>Positive</td>\n",
              "      <td>gt use windows mobile phones pay</td>\n",
              "    </tr>\n",
              "    <tr>\n",
              "      <th>771473</th>\n",
              "      <td>Negative</td>\n",
              "      <td>crazy cat man guy dude turn</td>\n",
              "    </tr>\n",
              "    <tr>\n",
              "      <th>60643</th>\n",
              "      <td>Negative</td>\n",
              "      <td>craving bbq bad dont bbq</td>\n",
              "    </tr>\n",
              "    <tr>\n",
              "      <th>487457</th>\n",
              "      <td>Negative</td>\n",
              "      <td>busy week ahead already tired</td>\n",
              "    </tr>\n",
              "    <tr>\n",
              "      <th>972207</th>\n",
              "      <td>Positive</td>\n",
              "      <td>back home weaverville</td>\n",
              "    </tr>\n",
              "  </tbody>\n",
              "</table>\n",
              "</div>"
            ],
            "text/plain": [
              "        sentiment                                               text\n",
              "1595298  Positive                                   yeah would agree\n",
              "493942   Negative  faa intentions pilot safety training well reci...\n",
              "868755   Positive      think time early night 1 2 eps family guy bed\n",
              "892931   Positive                             chicken eat much steak\n",
              "1596441  Positive  woohoo faith play dublin august excellent feel...\n",
              "1588349  Positive                   gt use windows mobile phones pay\n",
              "771473   Negative                        crazy cat man guy dude turn\n",
              "60643    Negative                           craving bbq bad dont bbq\n",
              "487457   Negative                      busy week ahead already tired\n",
              "972207   Positive                              back home weaverville"
            ]
          },
          "metadata": {
            "tags": []
          },
          "execution_count": 24
        }
      ]
    },
    {
      "cell_type": "code",
      "metadata": {
        "colab": {
          "base_uri": "https://localhost:8080/"
        },
        "id": "CL7YE02fo2UC",
        "outputId": "f8ae9b9f-fd28-4708-f5a3-5c59daca8d28"
      },
      "source": [
        "from keras.preprocessing.text import Tokenizer\r\n",
        "\r\n",
        "tokenizer = Tokenizer()\r\n",
        "tokenizer.fit_on_texts(train_data.text)\r\n",
        "\r\n",
        "word_index = tokenizer.word_index\r\n",
        "vocab_size = len(tokenizer.word_index) + 1\r\n",
        "print(\"Vocabulary Size :\", vocab_size)"
      ],
      "execution_count": null,
      "outputs": [
        {
          "output_type": "stream",
          "text": [
            "Vocabulary Size : 290492\n"
          ],
          "name": "stdout"
        }
      ]
    },
    {
      "cell_type": "code",
      "metadata": {
        "colab": {
          "base_uri": "https://localhost:8080/"
        },
        "id": "aSc_043oo48X",
        "outputId": "a9416454-716f-4280-beb7-8a2e94ad4192"
      },
      "source": [
        "from keras.preprocessing.sequence import pad_sequences\r\n",
        "\r\n",
        "x_train = pad_sequences(tokenizer.texts_to_sequences(train_data.text),\r\n",
        "                        maxlen = MAX_SEQUENCE_LENGTH)\r\n",
        "x_test = pad_sequences(tokenizer.texts_to_sequences(test_data.text),\r\n",
        "                       maxlen = MAX_SEQUENCE_LENGTH)\r\n",
        "\r\n",
        "print(\"Training X Shape:\",x_train.shape)\r\n",
        "print(\"Testing X Shape:\",x_test.shape)"
      ],
      "execution_count": null,
      "outputs": [
        {
          "output_type": "stream",
          "text": [
            "Training X Shape: (1280000, 30)\n",
            "Testing X Shape: (320000, 30)\n"
          ],
          "name": "stdout"
        }
      ]
    },
    {
      "cell_type": "code",
      "metadata": {
        "colab": {
          "base_uri": "https://localhost:8080/"
        },
        "id": "hvYFnyrasC6L",
        "outputId": "5fc94d7f-7148-468e-d221-083786cb1954"
      },
      "source": [
        "# let's see what we have done ...\r\n",
        "print(x_train[9])"
      ],
      "execution_count": null,
      "outputs": [
        {
          "output_type": "stream",
          "text": [
            "[     0      0      0      0      0      0      0      0      0      0\n",
            "      0      0      0      0      0      0      0      0      0      0\n",
            "      0      0      0      0      0      0      0     14     29 105502]\n"
          ],
          "name": "stdout"
        }
      ]
    },
    {
      "cell_type": "code",
      "metadata": {
        "colab": {
          "base_uri": "https://localhost:8080/"
        },
        "id": "KgR1U2b4sPzY",
        "outputId": "74eda0b7-ad95-438c-c3da-872c5722e5b8"
      },
      "source": [
        "# and debug output ...\r\n",
        "tokenizer.sequences_to_texts([x_train[9]])"
      ],
      "execution_count": null,
      "outputs": [
        {
          "output_type": "execute_result",
          "data": {
            "text/plain": [
              "['back home weaverville']"
            ]
          },
          "metadata": {
            "tags": []
          },
          "execution_count": 28
        }
      ]
    },
    {
      "cell_type": "code",
      "metadata": {
        "id": "1MhBSk-1o93J"
      },
      "source": [
        "labels = train_data.sentiment.unique().tolist()"
      ],
      "execution_count": null,
      "outputs": []
    },
    {
      "cell_type": "code",
      "metadata": {
        "colab": {
          "base_uri": "https://localhost:8080/"
        },
        "id": "L4Wjf7c-pKjQ",
        "outputId": "491401f1-d71d-4197-b268-fdde68280d91"
      },
      "source": [
        "encoder = LabelEncoder()\r\n",
        "encoder.fit(train_data.sentiment.to_list())\r\n",
        "\r\n",
        "y_train = encoder.transform(train_data.sentiment.to_list())\r\n",
        "y_test = encoder.transform(test_data.sentiment.to_list())\r\n",
        "\r\n",
        "y_train = y_train.reshape(-1,1)\r\n",
        "y_test = y_test.reshape(-1,1)\r\n",
        "\r\n",
        "print(\"y_train shape:\", y_train.shape)\r\n",
        "print(\"y_test shape:\", y_test.shape)"
      ],
      "execution_count": null,
      "outputs": [
        {
          "output_type": "stream",
          "text": [
            "y_train shape: (1280000, 1)\n",
            "y_test shape: (320000, 1)\n"
          ],
          "name": "stdout"
        }
      ]
    },
    {
      "cell_type": "code",
      "metadata": {
        "colab": {
          "base_uri": "https://localhost:8080/"
        },
        "id": "bVZ7O0cAsJJK",
        "outputId": "a0e5309b-037b-4c51-84c0-61ecd4846ab4"
      },
      "source": [
        "# which label was it?\r\n",
        "print(y_train[9])\r\n",
        "print(\"Positive\" if y_train[9]>0.5 else \"Negative\")"
      ],
      "execution_count": null,
      "outputs": [
        {
          "output_type": "stream",
          "text": [
            "[1]\n",
            "Positive\n"
          ],
          "name": "stdout"
        }
      ]
    },
    {
      "cell_type": "code",
      "metadata": {
        "id": "ysG7Nm26t-9m",
        "colab": {
          "base_uri": "https://localhost:8080/"
        },
        "outputId": "fbfa73f8-b7b2-4eb9-f5f0-6bdfe9feabac"
      },
      "source": [
        "# GloVe text embedding - fast download 83MB/s\r\n",
        "\r\n",
        "!gdown https://drive.google.com/uc?id=1cPrdK4kMnXDmEh1KQvL39VorE85CglEd\r\n",
        "!unzip glove.6B.300d.txt.zip\r\n",
        "!gdown https://drive.google.com/uc?id=1tbYUKyZMX-FcmJLz0fU968pztl_XoNrG\r\n",
        "!unzip glove.6B.50d.txt.zip\r\n",
        "!ls"
      ],
      "execution_count": null,
      "outputs": [
        {
          "output_type": "stream",
          "text": [
            "Downloading...\n",
            "From: https://drive.google.com/uc?id=1cPrdK4kMnXDmEh1KQvL39VorE85CglEd\n",
            "To: /content/glove.6B.300d.txt.zip\n",
            "405MB [00:05, 68.3MB/s]\n",
            "Archive:  glove.6B.300d.txt.zip\n",
            "  inflating: glove.6B.300d.txt       \n",
            "Downloading...\n",
            "From: https://drive.google.com/uc?id=1tbYUKyZMX-FcmJLz0fU968pztl_XoNrG\n",
            "To: /content/glove.6B.50d.txt.zip\n",
            "70.9MB [00:01, 56.0MB/s]\n",
            "Archive:  glove.6B.50d.txt.zip\n",
            "  inflating: glove.6B.50d.txt        \n",
            "glove.6B.300d.txt      sample_data\n",
            "glove.6B.300d.txt.zip  testdata.manual.2009.06.14.csv\n",
            "glove.6B.50d.txt       training.1600000.processed.noemoticon.csv\n",
            "glove.6B.50d.txt.zip   trainingandtestdata.zip\n"
          ],
          "name": "stdout"
        }
      ]
    },
    {
      "cell_type": "code",
      "metadata": {
        "id": "EyoK9iLnpqyg"
      },
      "source": [
        "# GloVe text embedding - original slower source\r\n",
        "# ... pretty slow (822MB) ~ 5+ min\r\n",
        "#!wget http://nlp.stanford.edu/data/glove.6B.zip\r\n",
        "#!unzip glove.6B.zip"
      ],
      "execution_count": null,
      "outputs": []
    },
    {
      "cell_type": "code",
      "metadata": {
        "colab": {
          "base_uri": "https://localhost:8080/"
        },
        "id": "XGJbwEmLXVEM",
        "outputId": "b0d1b028-c407-4464-c8e2-61a87e0c84f2"
      },
      "source": [
        "!ls -luah *.txt"
      ],
      "execution_count": null,
      "outputs": [
        {
          "output_type": "stream",
          "text": [
            "-rw-r--r-- 1 root root 990M Oct  1  2019 glove.6B.300d.txt\n",
            "-rw-r--r-- 1 root root 164M Sep 25  2019 glove.6B.50d.txt\n"
          ],
          "name": "stdout"
        }
      ]
    },
    {
      "cell_type": "code",
      "metadata": {
        "id": "joc83at9qA8V"
      },
      "source": [
        "#GLOVE_EMB = '/content/glove.6B.300d.txt'\r\n",
        "#EMBEDDING_DIM = 300\r\n",
        "\r\n",
        "# lets start with the smaller model\r\n",
        "GLOVE_EMB = '/content/glove.6B.50d.txt'\r\n",
        "EMBEDDING_DIM = 50\r\n",
        "\r\n",
        "LR = 1e-3\r\n",
        "BATCH_SIZE = 1024\r\n",
        "EPOCHS = 10"
      ],
      "execution_count": null,
      "outputs": []
    },
    {
      "cell_type": "code",
      "metadata": {
        "colab": {
          "base_uri": "https://localhost:8080/"
        },
        "id": "epAK7xQ8qenq",
        "outputId": "4aff4222-e927-4b23-aef1-cfe74892294f"
      },
      "source": [
        "embeddings_index = {}\r\n",
        "\r\n",
        "f = open(GLOVE_EMB)\r\n",
        "for line in f:\r\n",
        "  values = line.split()\r\n",
        "  word = value = values[0]\r\n",
        "  coefs = np.asarray(values[1:], dtype='float32')\r\n",
        "  embeddings_index[word] = coefs\r\n",
        "f.close()\r\n",
        "\r\n",
        "print('Found %s word vectors.' %len(embeddings_index))"
      ],
      "execution_count": null,
      "outputs": [
        {
          "output_type": "stream",
          "text": [
            "Found 400000 word vectors.\n"
          ],
          "name": "stdout"
        }
      ]
    },
    {
      "cell_type": "code",
      "metadata": {
        "id": "entUop3uqhHC"
      },
      "source": [
        "embedding_matrix = np.zeros((vocab_size, EMBEDDING_DIM))\r\n",
        "for word, i in word_index.items():\r\n",
        "  embedding_vector = embeddings_index.get(word)\r\n",
        "  if embedding_vector is not None:\r\n",
        "    embedding_matrix[i] = embedding_vector"
      ],
      "execution_count": null,
      "outputs": []
    },
    {
      "cell_type": "code",
      "metadata": {
        "id": "5bdC5MEvqi5d"
      },
      "source": [
        "embedding_layer = tf.keras.layers.Embedding(vocab_size,\r\n",
        "                                          EMBEDDING_DIM,\r\n",
        "                                          weights=[embedding_matrix],\r\n",
        "                                          input_length=MAX_SEQUENCE_LENGTH,\r\n",
        "                                          trainable=False)\r\n",
        "\r\n",
        "# will convert data (the first 30 letters from each tweet) into GloVe representation (50 or 300 dimensional vector)"
      ],
      "execution_count": null,
      "outputs": []
    },
    {
      "cell_type": "markdown",
      "metadata": {
        "id": "Yjj6I38Nublr"
      },
      "source": [
        "## 3-4. Simple model ..."
      ]
    },
    {
      "cell_type": "code",
      "metadata": {
        "colab": {
          "base_uri": "https://localhost:8080/"
        },
        "id": "QQepth6dXyx9",
        "outputId": "a615b87a-d3cc-458f-90bd-6137e123524d"
      },
      "source": [
        "print(x_train[0:5])\r\n",
        "print(y_train[0:5])\r\n",
        "\r\n",
        "# x ---> [model] ---> y'  ....  y"
      ],
      "execution_count": null,
      "outputs": [
        {
          "output_type": "stream",
          "text": [
            "[[    0     0     0     0     0     0     0     0     0     0     0     0\n",
            "      0     0     0     0     0     0     0     0     0     0     0     0\n",
            "      0     0     0    63    50   568]\n",
            " [    0     0     0     0     0     0     0     0     0     0     0     0\n",
            "      0     0     0     0     0     0 28645  9111  5005  5932  1057    24\n",
            "   8830  6224  1795    96 14763  5005]\n",
            " [    0     0     0     0     0     0     0     0     0     0     0     0\n",
            "      0     0     0     0     0     0     0     0    28    13   141    23\n",
            "    103    25  5478   249   345    64]\n",
            " [    0     0     0     0     0     0     0     0     0     0     0     0\n",
            "      0     0     0     0     0     0     0     0     0     0     0     0\n",
            "      0     0   801   261    32  2801]\n",
            " [    0     0     0     0     0     0     0     0     0     0     0     0\n",
            "      0     0     0     0     0     0     0     0  1358  2529   195  3286\n",
            "   1284  1359    43    49   231   856]]\n",
            "[[1]\n",
            " [0]\n",
            " [1]\n",
            " [1]\n",
            " [1]]\n"
          ],
          "name": "stdout"
        }
      ]
    },
    {
      "cell_type": "code",
      "metadata": {
        "id": "wG8EmK00uaft"
      },
      "source": [
        "\"\"\"\r\n",
        "For model architecture, we use\r\n",
        "\r\n",
        "1) Embedding Layer - Generates Embedding Vector for each input sequence.\r\n",
        "\r\n",
        "2) Conv1D Layer - Its using to convolve data into smaller feature vectors.\r\n",
        "\r\n",
        "3) LSTM - Long Short Term Memory, its a variant of RNN which has memory state cell to learn the context of words which are at further along the text to carry contextual meaning rather than just neighbouring words as in case of RNN.\r\n",
        "\r\n",
        "4) Dense - Fully Connected Layers for classification\r\n",
        "\"\"\""
      ],
      "execution_count": null,
      "outputs": []
    },
    {
      "cell_type": "code",
      "metadata": {
        "colab": {
          "base_uri": "https://localhost:8080/"
        },
        "id": "KsrF5mS6uafu",
        "outputId": "930b877e-ec93-4a64-eda1-123796ea6f0b"
      },
      "source": [
        "from tensorflow.keras.layers import Conv1D, Bidirectional, LSTM, Dense, Input, Dropout\r\n",
        "from tensorflow.keras.layers import SpatialDropout1D\r\n",
        "from tensorflow.keras.callbacks import ModelCheckpoint\r\n",
        "\r\n",
        "sequence_input = Input(shape=(MAX_SEQUENCE_LENGTH,), dtype='int32')\r\n",
        "x = embedding_layer(sequence_input) # lots of frozen weights ...\r\n",
        "x = LSTM(64, dropout=0.2, recurrent_dropout=0.2, return_sequences=True)(x) ## < returns sequences = all intermediate embeddings\r\n",
        "x = LSTM(64, dropout=0.2, recurrent_dropout=0.2)(x) ## < returns only the final embedding\r\n",
        "x = Dense(64, activation='relu')(x)\r\n",
        "outputs = Dense(1, activation='sigmoid')(x)\r\n",
        "model_ours = tf.keras.Model(sequence_input, outputs)\r\n",
        "\r\n",
        "model_ours.summary()"
      ],
      "execution_count": null,
      "outputs": [
        {
          "output_type": "stream",
          "text": [
            "WARNING:tensorflow:Layer lstm_8 will not use cuDNN kernel since it doesn't meet the cuDNN kernel criteria. It will use generic GPU kernel as fallback when running on GPU\n",
            "WARNING:tensorflow:Layer lstm_9 will not use cuDNN kernel since it doesn't meet the cuDNN kernel criteria. It will use generic GPU kernel as fallback when running on GPU\n",
            "Model: \"model_4\"\n",
            "_________________________________________________________________\n",
            "Layer (type)                 Output Shape              Param #   \n",
            "=================================================================\n",
            "input_5 (InputLayer)         [(None, 30)]              0         \n",
            "_________________________________________________________________\n",
            "embedding (Embedding)        (None, 30, 50)            14524600  \n",
            "_________________________________________________________________\n",
            "lstm_8 (LSTM)                (None, 30, 64)            29440     \n",
            "_________________________________________________________________\n",
            "lstm_9 (LSTM)                (None, 64)                33024     \n",
            "_________________________________________________________________\n",
            "dense_8 (Dense)              (None, 64)                4160      \n",
            "_________________________________________________________________\n",
            "dense_9 (Dense)              (None, 1)                 65        \n",
            "=================================================================\n",
            "Total params: 14,591,289\n",
            "Trainable params: 66,689\n",
            "Non-trainable params: 14,524,600\n",
            "_________________________________________________________________\n"
          ],
          "name": "stdout"
        }
      ]
    },
    {
      "cell_type": "code",
      "metadata": {
        "id": "lr_nJzSEuafw"
      },
      "source": [
        "from tensorflow.keras.optimizers import Adam\r\n",
        "\r\n",
        "model_ours.compile(optimizer=Adam(learning_rate=LR), loss='binary_crossentropy',\r\n",
        "              metrics=['accuracy'])\r\n"
      ],
      "execution_count": null,
      "outputs": []
    },
    {
      "cell_type": "code",
      "metadata": {
        "id": "S5ooy8Lpuafx",
        "colab": {
          "base_uri": "https://localhost:8080/"
        },
        "outputId": "0507a182-04db-414f-ebc1-a686cd3c9471"
      },
      "source": [
        "EPOCHS = 10\r\n",
        "\r\n",
        "# 20 sec ~ with 50d embedding\r\n",
        "subset = int( len(x_train) / 8 ) # one eighth of the data\r\n",
        "history = model_ours.fit(x_train[:subset], y_train[:subset], batch_size=BATCH_SIZE*2, epochs=EPOCHS,\r\n",
        "                    validation_data=(x_test, y_test))\r\n"
      ],
      "execution_count": null,
      "outputs": [
        {
          "output_type": "stream",
          "text": [
            "Epoch 1/10\n",
            "79/79 [==============================] - 28s 287ms/step - loss: 0.6590 - accuracy: 0.6031 - val_loss: 0.6010 - val_accuracy: 0.6720\n",
            "Epoch 2/10\n",
            "79/79 [==============================] - 21s 269ms/step - loss: 0.6055 - accuracy: 0.6665 - val_loss: 0.5803 - val_accuracy: 0.6897\n",
            "Epoch 3/10\n",
            "79/79 [==============================] - 21s 270ms/step - loss: 0.5850 - accuracy: 0.6854 - val_loss: 0.5607 - val_accuracy: 0.7075\n",
            "Epoch 4/10\n",
            "79/79 [==============================] - 21s 270ms/step - loss: 0.5701 - accuracy: 0.6970 - val_loss: 0.5562 - val_accuracy: 0.7098\n",
            "Epoch 5/10\n",
            "79/79 [==============================] - 21s 266ms/step - loss: 0.5600 - accuracy: 0.7069 - val_loss: 0.5508 - val_accuracy: 0.7142\n",
            "Epoch 6/10\n",
            "79/79 [==============================] - 20s 258ms/step - loss: 0.5524 - accuracy: 0.7133 - val_loss: 0.5395 - val_accuracy: 0.7231\n",
            "Epoch 7/10\n",
            "79/79 [==============================] - 22s 273ms/step - loss: 0.5462 - accuracy: 0.7164 - val_loss: 0.5385 - val_accuracy: 0.7241\n",
            "Epoch 8/10\n",
            "79/79 [==============================] - 21s 266ms/step - loss: 0.5453 - accuracy: 0.7177 - val_loss: 0.5334 - val_accuracy: 0.7284\n",
            "Epoch 9/10\n",
            "79/79 [==============================] - 22s 278ms/step - loss: 0.5422 - accuracy: 0.7202 - val_loss: 0.5285 - val_accuracy: 0.7318\n",
            "Epoch 10/10\n",
            "79/79 [==============================] - 21s 269ms/step - loss: 0.5385 - accuracy: 0.7247 - val_loss: 0.5265 - val_accuracy: 0.7326\n"
          ],
          "name": "stdout"
        }
      ]
    },
    {
      "cell_type": "code",
      "metadata": {
        "colab": {
          "base_uri": "https://localhost:8080/"
        },
        "id": "QpON7eFkc0V3",
        "outputId": "004e876a-28e8-4ef5-e15e-875afb8522df"
      },
      "source": [
        "history.history"
      ],
      "execution_count": null,
      "outputs": [
        {
          "output_type": "execute_result",
          "data": {
            "text/plain": [
              "{'accuracy': [0.6373124718666077,\n",
              "  0.6714875102043152,\n",
              "  0.6893249750137329,\n",
              "  0.699275016784668,\n",
              "  0.7066312432289124,\n",
              "  0.7138875126838684,\n",
              "  0.7171437740325928,\n",
              "  0.7190437316894531,\n",
              "  0.7220500111579895,\n",
              "  0.724637508392334],\n",
              " 'loss': [0.6362592577934265,\n",
              "  0.6005725264549255,\n",
              "  0.5807561874389648,\n",
              "  0.5681812167167664,\n",
              "  0.5591140389442444,\n",
              "  0.5524898767471313,\n",
              "  0.547142744064331,\n",
              "  0.5441386103630066,\n",
              "  0.5408045649528503,\n",
              "  0.5374783873558044],\n",
              " 'val_accuracy': [0.6720437407493591,\n",
              "  0.6897093653678894,\n",
              "  0.7074562311172485,\n",
              "  0.7098125219345093,\n",
              "  0.7142124772071838,\n",
              "  0.7230530977249146,\n",
              "  0.7241374850273132,\n",
              "  0.7284125089645386,\n",
              "  0.7318124771118164,\n",
              "  0.7326062321662903],\n",
              " 'val_loss': [0.6009765267372131,\n",
              "  0.5803272724151611,\n",
              "  0.5606634616851807,\n",
              "  0.5562086701393127,\n",
              "  0.5507892370223999,\n",
              "  0.5395401120185852,\n",
              "  0.5384907126426697,\n",
              "  0.5334222912788391,\n",
              "  0.528496265411377,\n",
              "  0.5265304446220398]}"
            ]
          },
          "metadata": {
            "tags": []
          },
          "execution_count": 53
        }
      ]
    },
    {
      "cell_type": "markdown",
      "metadata": {
        "id": "HsLEn8pbuafx"
      },
      "source": [
        "### Training plots:"
      ]
    },
    {
      "cell_type": "code",
      "metadata": {
        "colab": {
          "base_uri": "https://localhost:8080/",
          "height": 312
        },
        "id": "hlL9NW89uafy",
        "outputId": "db92ca73-ab46-40b1-d7d2-8ef04b420082"
      },
      "source": [
        "s, (at, al) = plt.subplots(2,1)\r\n",
        "at.plot(history.history['accuracy'], c= 'b')\r\n",
        "at.plot(history.history['val_accuracy'], c='r')\r\n",
        "at.set_title('model accuracy')\r\n",
        "at.set_ylabel('accuracy')\r\n",
        "at.set_xlabel('epoch')\r\n",
        "at.legend(['LSTM_train', 'LSTM_val'], loc='upper left')\r\n",
        "\r\n",
        "al.plot(history.history['loss'], c='m')\r\n",
        "al.plot(history.history['val_loss'], c='c')\r\n",
        "al.set_title('model loss')\r\n",
        "al.set_ylabel('loss')\r\n",
        "al.set_xlabel('epoch')\r\n",
        "al.legend(['train', 'val'], loc = 'upper left')\r\n"
      ],
      "execution_count": null,
      "outputs": [
        {
          "output_type": "execute_result",
          "data": {
            "text/plain": [
              "<matplotlib.legend.Legend at 0x7f69e8e8c4a8>"
            ]
          },
          "metadata": {
            "tags": []
          },
          "execution_count": 54
        },
        {
          "output_type": "display_data",
          "data": {
            "image/png": "[encoded data removed]",
            "text/plain": [
              "<Figure size 432x288 with 2 Axes>"
            ]
          },
          "metadata": {
            "tags": [],
            "needs_background": "light"
          }
        }
      ]
    },
    {
      "cell_type": "code",
      "metadata": {
        "colab": {
          "base_uri": "https://localhost:8080/"
        },
        "id": "OID8yno9uafy",
        "outputId": "65eceb6e-e409-4db3-a885-4b789f5201f5"
      },
      "source": [
        "def decode_sentiment(score):\r\n",
        "    return \"Positive\" if score>0.5 else \"Negative\"\r\n",
        "\r\n",
        "scores = model_ours.predict(x_test, verbose=1, batch_size=10000)\r\n",
        "y_pred_1d = [decode_sentiment(score) for score in scores]"
      ],
      "execution_count": null,
      "outputs": [
        {
          "output_type": "stream",
          "text": [
            "32/32 [==============================] - 2s 64ms/step\n"
          ],
          "name": "stdout"
        }
      ]
    },
    {
      "cell_type": "code",
      "metadata": {
        "id": "crm7FPDiuafy",
        "colab": {
          "base_uri": "https://localhost:8080/",
          "height": 370
        },
        "outputId": "0ae18250-69f7-4964-b2f6-34918c85a9de"
      },
      "source": [
        "import itertools\r\n",
        "from sklearn.metrics import confusion_matrix, classification_report, accuracy_score\r\n",
        "def plot_confusion_matrix(cm, classes,\r\n",
        "                          title='Confusion matrix',\r\n",
        "                          cmap=plt.cm.Blues):\r\n",
        "    \"\"\"\r\n",
        "    This function prints and plots the confusion matrix.\r\n",
        "    Normalization can be applied by setting `normalize=True`.\r\n",
        "    \"\"\"\r\n",
        "\r\n",
        "    cm = cm.astype('float') / cm.sum(axis=1)[:, np.newaxis]\r\n",
        "\r\n",
        "    plt.imshow(cm, interpolation='nearest', cmap=cmap)\r\n",
        "    plt.title(title, fontsize=20)\r\n",
        "    plt.colorbar()\r\n",
        "    tick_marks = np.arange(len(classes))\r\n",
        "    plt.xticks(tick_marks, classes, fontsize=13)\r\n",
        "    plt.yticks(tick_marks, classes, fontsize=13)\r\n",
        "\r\n",
        "    fmt = '.2f'\r\n",
        "    thresh = cm.max() / 2.\r\n",
        "    for i, j in itertools.product(range(cm.shape[0]), range(cm.shape[1])):\r\n",
        "        plt.text(j, i, format(cm[i, j], fmt),\r\n",
        "                 horizontalalignment=\"center\",\r\n",
        "                 color=\"white\" if cm[i, j] > thresh else \"black\")\r\n",
        "\r\n",
        "    plt.ylabel('True label', fontsize=17)\r\n",
        "    plt.xlabel('Predicted label', fontsize=17)\r\n",
        "\r\n",
        "cnf_matrix = confusion_matrix(test_data.sentiment.to_list(), y_pred_1d)\r\n",
        "plt.figure(figsize=(6,6))\r\n",
        "plot_confusion_matrix(cnf_matrix, classes=test_data.sentiment.unique(), title=\"Confusion matrix\")\r\n",
        "plt.show()"
      ],
      "execution_count": null,
      "outputs": [
        {
          "output_type": "display_data",
          "data": {
            "image/png": "[encoded data removed]",
            "text/plain": [
              "<Figure size 432x432 with 2 Axes>"
            ]
          },
          "metadata": {
            "tags": [],
            "needs_background": "light"
          }
        }
      ]
    },
    {
      "cell_type": "code",
      "metadata": {
        "colab": {
          "base_uri": "https://localhost:8080/"
        },
        "id": "0KklH6siuafz",
        "outputId": "11c00b9c-c17a-4b6e-bebc-4af76aebf7a1"
      },
      "source": [
        "# visualization of these metrics - https://en.wikipedia.org/wiki/Precision_and_recall\n",
        "print(classification_report(list(test_data.sentiment), y_pred_1d))"
      ],
      "execution_count": null,
      "outputs": [
        {
          "output_type": "stream",
          "text": [
            "              precision    recall  f1-score   support\n",
            "\n",
            "    Negative       0.73      0.75      0.74    160032\n",
            "    Positive       0.74      0.72      0.73    159968\n",
            "\n",
            "    accuracy                           0.73    320000\n",
            "   macro avg       0.73      0.73      0.73    320000\n",
            "weighted avg       0.73      0.73      0.73    320000\n",
            "\n"
          ],
          "name": "stdout"
        }
      ]
    },
    {
      "cell_type": "markdown",
      "metadata": {
        "id": "vBnJe5e40VXp"
      },
      "source": [
        "### Interacting with the trained model"
      ]
    },
    {
      "cell_type": "code",
      "metadata": {
        "colab": {
          "base_uri": "https://localhost:8080/"
        },
        "id": "Gz3mry6b0VXy",
        "outputId": "3e1f657d-fcb1-4d8c-ed80-01e30487c31a"
      },
      "source": [
        "custom_texts = [ preprocess(\"The universe is a good place\") ,\r\n",
        "                 preprocess(\"The universe is a bad place\")\r\n",
        "          ]\r\n",
        "\r\n",
        "x_custom = pad_sequences(tokenizer.texts_to_sequences(custom_texts),\r\n",
        "                        maxlen = MAX_SEQUENCE_LENGTH)\r\n",
        "\r\n",
        "print(\"^ this gets represented as:\", x_custom)"
      ],
      "execution_count": null,
      "outputs": [
        {
          "output_type": "stream",
          "text": [
            "^ this gets represented as: [[   0    0    0    0    0    0    0    0    0    0    0    0    0    0\n",
            "     0    0    0    0    0    0    0    0    0    0    0    0    0 2750\n",
            "     1  302]\n",
            " [   0    0    0    0    0    0    0    0    0    0    0    0    0    0\n",
            "     0    0    0    0    0    0    0    0    0    0    0    0    0 2750\n",
            "    49  302]]\n"
          ],
          "name": "stdout"
        }
      ]
    },
    {
      "cell_type": "code",
      "metadata": {
        "colab": {
          "base_uri": "https://localhost:8080/"
        },
        "id": "b6U2I-AF0VXz",
        "outputId": "49408057-56eb-4d94-d2ae-be75d8f39f26"
      },
      "source": [
        "scores_custom = model_ours.predict(x_custom, verbose=1, batch_size=10000)\r\n",
        "print(\"model prediction:\", scores_custom)\r\n",
        "\r\n",
        "y_pred_1d_custom = [decode_sentiment(score) for score in scores_custom]\r\n",
        "print(\"decoded:\", y_pred_1d_custom)"
      ],
      "execution_count": null,
      "outputs": [
        {
          "output_type": "stream",
          "text": [
            "1/1 [==============================] - 0s 26ms/step\n",
            "model prediction: [[0.9272272 ]\n",
            " [0.19369465]]\n",
            "decoded: ['Positive', 'Negative']\n"
          ],
          "name": "stdout"
        }
      ]
    },
    {
      "cell_type": "markdown",
      "metadata": {
        "id": "kLeeaxpH5aIa"
      },
      "source": [
        "\n",
        "\n",
        "> Basic function works, can we do something better? Yeah, better model!\n",
        "\n"
      ]
    },
    {
      "cell_type": "markdown",
      "metadata": {
        "id": "gbFZZGuH5aSx"
      },
      "source": [
        "## 3-4. More complicated model"
      ]
    },
    {
      "cell_type": "code",
      "metadata": {
        "id": "FB0SaVYC5aSz"
      },
      "source": [
        "\"\"\"\r\n",
        "For model architecture, we use\r\n",
        "\r\n",
        "1) Embedding Layer - Generates Embedding Vector for each input sequence.\r\n",
        "\r\n",
        "2) Conv1D Layer - Its using to convolve data into smaller feature vectors.\r\n",
        "\r\n",
        "3) LSTM - Long Short Term Memory, its a variant of RNN which has memory state cell to learn the context of words which are at further along the text to carry contextual meaning rather than just neighbouring words as in case of RNN.\r\n",
        "\r\n",
        "4) Dense - Fully Connected Layers for classification\r\n",
        "\"\"\"\r\n",
        "True"
      ],
      "execution_count": null,
      "outputs": []
    },
    {
      "cell_type": "code",
      "metadata": {
        "id": "rqUe5TAMBLZu"
      },
      "source": [
        "# lets use the more complex embedding\r\n",
        "\r\n",
        "GLOVE_EMB = '/content/glove.6B.300d.txt'\r\n",
        "EMBEDDING_DIM = 300\r\n",
        "\r\n",
        "#GLOVE_EMB = '/content/glove.6B.50d.txt'\r\n",
        "#EMBEDDING_DIM = 50\r\n",
        "\r\n",
        "LR = 1e-3\r\n",
        "BATCH_SIZE = 1024\r\n",
        "EPOCHS = 10"
      ],
      "execution_count": null,
      "outputs": []
    },
    {
      "cell_type": "code",
      "metadata": {
        "colab": {
          "base_uri": "https://localhost:8080/"
        },
        "id": "WndoqtElBLaK",
        "outputId": "840e9cc7-c7f7-4a89-98f9-1894eee9412a"
      },
      "source": [
        "embeddings_index = {}\r\n",
        "\r\n",
        "f = open(GLOVE_EMB)\r\n",
        "for line in f:\r\n",
        "  values = line.split()\r\n",
        "  word = value = values[0]\r\n",
        "  coefs = np.asarray(values[1:], dtype='float32')\r\n",
        "  embeddings_index[word] = coefs\r\n",
        "f.close()\r\n",
        "\r\n",
        "print('Found %s word vectors.' %len(embeddings_index))"
      ],
      "execution_count": null,
      "outputs": [
        {
          "output_type": "stream",
          "text": [
            "Found 400000 word vectors.\n"
          ],
          "name": "stdout"
        }
      ]
    },
    {
      "cell_type": "code",
      "metadata": {
        "id": "3QF9iXpoBLaL"
      },
      "source": [
        "embedding_matrix = np.zeros((vocab_size, EMBEDDING_DIM))\r\n",
        "for word, i in word_index.items():\r\n",
        "  embedding_vector = embeddings_index.get(word)\r\n",
        "  if embedding_vector is not None:\r\n",
        "    embedding_matrix[i] = embedding_vector"
      ],
      "execution_count": null,
      "outputs": []
    },
    {
      "cell_type": "code",
      "metadata": {
        "id": "Su0v3e6kBLaM"
      },
      "source": [
        "embedding_layer = tf.keras.layers.Embedding(vocab_size,\r\n",
        "                                          EMBEDDING_DIM,\r\n",
        "                                          weights=[embedding_matrix],\r\n",
        "                                          input_length=MAX_SEQUENCE_LENGTH,\r\n",
        "                                          trainable=False)\r\n",
        "\r\n",
        "# will convert data (the first 30 letters from each tweet) into GloVe representation (50 or 300 dimensional vector)"
      ],
      "execution_count": null,
      "outputs": []
    },
    {
      "cell_type": "code",
      "metadata": {
        "colab": {
          "base_uri": "https://localhost:8080/"
        },
        "id": "PhyNEeQw5aS1",
        "outputId": "effd70c0-e326-4c23-b389-1f4fa7fc9238"
      },
      "source": [
        "from tensorflow.keras.layers import Conv1D, Bidirectional, LSTM, Dense, Input, Dropout\r\n",
        "from tensorflow.keras.layers import SpatialDropout1D\r\n",
        "from tensorflow.keras.callbacks import ModelCheckpoint\r\n",
        "\r\n",
        "sequence_input = Input(shape=(MAX_SEQUENCE_LENGTH,), dtype='int32')\r\n",
        "embedding_sequences = embedding_layer(sequence_input)\r\n",
        "x = SpatialDropout1D(0.2)(embedding_sequences)\r\n",
        "x = Conv1D(64, 5, activation='relu')(x)\r\n",
        "x = Bidirectional(LSTM(64, dropout=0.2, recurrent_dropout=0.2))(x) ### < more fancy LSTM!\r\n",
        "x = Dense(512, activation='relu')(x)\r\n",
        "x = Dropout(0.5)(x)              ### < more dropouts around\r\n",
        "x = Dense(512, activation='relu')(x)    ### < larger intermediate feature size ...\r\n",
        "outputs = Dense(1, activation='sigmoid')(x)\r\n",
        "model = tf.keras.Model(sequence_input, outputs)\r\n",
        "\r\n",
        "model.summary()"
      ],
      "execution_count": null,
      "outputs": [
        {
          "output_type": "stream",
          "text": [
            "WARNING:tensorflow:Layer lstm_12 will not use cuDNN kernel since it doesn't meet the cuDNN kernel criteria. It will use generic GPU kernel as fallback when running on GPU\n",
            "WARNING:tensorflow:Layer lstm_12 will not use cuDNN kernel since it doesn't meet the cuDNN kernel criteria. It will use generic GPU kernel as fallback when running on GPU\n",
            "WARNING:tensorflow:Layer lstm_12 will not use cuDNN kernel since it doesn't meet the cuDNN kernel criteria. It will use generic GPU kernel as fallback when running on GPU\n",
            "Model: \"model_5\"\n",
            "_________________________________________________________________\n",
            "Layer (type)                 Output Shape              Param #   \n",
            "=================================================================\n",
            "input_8 (InputLayer)         [(None, 30)]              0         \n",
            "_________________________________________________________________\n",
            "embedding_1 (Embedding)      (None, 30, 300)           87147600  \n",
            "_________________________________________________________________\n",
            "spatial_dropout1d_1 (Spatial (None, 30, 300)           0         \n",
            "_________________________________________________________________\n",
            "conv1d_1 (Conv1D)            (None, 26, 64)            96064     \n",
            "_________________________________________________________________\n",
            "bidirectional_1 (Bidirection (None, 128)               66048     \n",
            "_________________________________________________________________\n",
            "dense_11 (Dense)             (None, 512)               66048     \n",
            "_________________________________________________________________\n",
            "dropout_1 (Dropout)          (None, 512)               0         \n",
            "_________________________________________________________________\n",
            "dense_12 (Dense)             (None, 512)               262656    \n",
            "_________________________________________________________________\n",
            "dense_13 (Dense)             (None, 1)                 513       \n",
            "=================================================================\n",
            "Total params: 87,638,929\n",
            "Trainable params: 491,329\n",
            "Non-trainable params: 87,147,600\n",
            "_________________________________________________________________\n"
          ],
          "name": "stdout"
        }
      ]
    },
    {
      "cell_type": "code",
      "metadata": {
        "id": "ZsUu_p5p5aS5"
      },
      "source": [
        "from tensorflow.keras.optimizers import Adam\r\n",
        "from tensorflow.keras.callbacks import ReduceLROnPlateau\r\n",
        "\r\n",
        "model.compile(optimizer=Adam(learning_rate=LR), loss='binary_crossentropy',\r\n",
        "              metrics=['accuracy'])\r\n",
        "\r\n",
        "## and we add automatic learning rate adjustment (reduce LR on plateau)\r\n",
        "ReduceLROnPlateau = ReduceLROnPlateau(factor=0.1,\r\n",
        "                                     min_lr = 0.01,\r\n",
        "                                     monitor = 'val_loss',\r\n",
        "                                     verbose = 1)\r\n"
      ],
      "execution_count": null,
      "outputs": []
    },
    {
      "cell_type": "code",
      "metadata": {
        "colab": {
          "base_uri": "https://localhost:8080/"
        },
        "id": "m6yKr0nr5aS6",
        "outputId": "32fcc5f8-e89d-43ed-c642-0465a0af4c81"
      },
      "source": [
        "print(\"Training on GPU...\") if tf.test.is_gpu_available() else print(\"Training on CPU...\")\r\n",
        "\r\n",
        "# CPU -> one epoch takes about 20 minutes ...\r\n",
        "# CPU -> one epoch takes about 2 minutes ..."
      ],
      "execution_count": null,
      "outputs": [
        {
          "output_type": "stream",
          "text": [
            "WARNING:tensorflow:From <ipython-input-74-68b01f36d350>:1: is_gpu_available (from tensorflow.python.framework.test_util) is deprecated and will be removed in a future version.\n",
            "Instructions for updating:\n",
            "Use `tf.config.list_physical_devices('GPU')` instead.\n",
            "Training on GPU...\n"
          ],
          "name": "stdout"
        }
      ]
    },
    {
      "cell_type": "code",
      "metadata": {
        "id": "GTkcGte55aS8",
        "colab": {
          "base_uri": "https://localhost:8080/"
        },
        "outputId": "18e6d8c2-9479-4398-e316-7d106167d258"
      },
      "source": [
        "# for presentation purposes we might use some speed up hacks ... \r\n",
        "# ... like using only a portion of the dataset\r\n",
        "\r\n",
        "subset =  int( len(x_train) / 4 ) # from 1 280 000\r\n",
        "history = model.fit(x_train[:subset], y_train[:subset], batch_size=2*BATCH_SIZE, epochs=EPOCHS,\r\n",
        "                    validation_data=(x_test, y_test), callbacks=[ReduceLROnPlateau])\r\n",
        "\r\n",
        "# cca 41 sec with 300d vectors"
      ],
      "execution_count": null,
      "outputs": [
        {
          "output_type": "stream",
          "text": [
            "Epoch 1/10\n",
            "157/157 [==============================] - 46s 269ms/step - loss: 0.6003 - accuracy: 0.6654 - val_loss: 0.5171 - val_accuracy: 0.7415\n",
            "Epoch 2/10\n",
            "157/157 [==============================] - 41s 260ms/step - loss: 0.5216 - accuracy: 0.7380 - val_loss: 0.5015 - val_accuracy: 0.7511\n",
            "Epoch 3/10\n",
            "157/157 [==============================] - 41s 264ms/step - loss: 0.5026 - accuracy: 0.7514 - val_loss: 0.4926 - val_accuracy: 0.7582\n",
            "Epoch 4/10\n",
            "157/157 [==============================] - 41s 262ms/step - loss: 0.4909 - accuracy: 0.7602 - val_loss: 0.4905 - val_accuracy: 0.7589\n",
            "Epoch 5/10\n",
            "157/157 [==============================] - 41s 259ms/step - loss: 0.4832 - accuracy: 0.7647 - val_loss: 0.4869 - val_accuracy: 0.7623\n",
            "Epoch 6/10\n",
            "157/157 [==============================] - 41s 264ms/step - loss: 0.4743 - accuracy: 0.7708 - val_loss: 0.4857 - val_accuracy: 0.7632\n",
            "Epoch 7/10\n",
            "157/157 [==============================] - 40s 256ms/step - loss: 0.4665 - accuracy: 0.7754 - val_loss: 0.4882 - val_accuracy: 0.7613\n",
            "Epoch 8/10\n",
            "157/157 [==============================] - 41s 260ms/step - loss: 0.4645 - accuracy: 0.7772 - val_loss: 0.4839 - val_accuracy: 0.7637\n",
            "Epoch 9/10\n",
            "157/157 [==============================] - 42s 264ms/step - loss: 0.4576 - accuracy: 0.7818 - val_loss: 0.4867 - val_accuracy: 0.7637\n",
            "Epoch 10/10\n",
            "157/157 [==============================] - 41s 262ms/step - loss: 0.4535 - accuracy: 0.7837 - val_loss: 0.4912 - val_accuracy: 0.7638\n"
          ],
          "name": "stdout"
        }
      ]
    },
    {
      "cell_type": "code",
      "metadata": {
        "id": "tYazake35aS9"
      },
      "source": [
        "#history = model.fit(x_train, y_train, batch_size=BATCH_SIZE, epochs=EPOCHS,\r\n",
        "#                    validation_data=(x_test, y_test), callbacks=[ReduceLROnPlateau])"
      ],
      "execution_count": null,
      "outputs": []
    },
    {
      "cell_type": "markdown",
      "metadata": {
        "id": "ap1m0Q5L5aS-"
      },
      "source": [
        "### Training plots:"
      ]
    },
    {
      "cell_type": "code",
      "metadata": {
        "colab": {
          "base_uri": "https://localhost:8080/",
          "height": 312
        },
        "id": "VvqGHfQ-5aS_",
        "outputId": "2014b341-ed8a-4d6d-c367-05e2792105f8"
      },
      "source": [
        "s, (at, al) = plt.subplots(2,1)\r\n",
        "at.plot(history.history['accuracy'], c= 'b')\r\n",
        "at.plot(history.history['val_accuracy'], c='r')\r\n",
        "at.set_title('model accuracy')\r\n",
        "at.set_ylabel('accuracy')\r\n",
        "at.set_xlabel('epoch')\r\n",
        "at.legend(['LSTM_train', 'LSTM_val'], loc='upper left')\r\n",
        "\r\n",
        "al.plot(history.history['loss'], c='m')\r\n",
        "al.plot(history.history['val_loss'], c='c')\r\n",
        "al.set_title('model loss')\r\n",
        "al.set_ylabel('loss')\r\n",
        "al.set_xlabel('epoch')\r\n",
        "al.legend(['train', 'val'], loc = 'upper left')\r\n"
      ],
      "execution_count": null,
      "outputs": [
        {
          "output_type": "execute_result",
          "data": {
            "text/plain": [
              "<matplotlib.legend.Legend at 0x7f17b4727860>"
            ]
          },
          "metadata": {
            "tags": []
          },
          "execution_count": 91
        },
        {
          "output_type": "display_data",
          "data": {
            "image/png": "[encoded data removed]",
            "text/plain": [
              "<Figure size 432x288 with 2 Axes>"
            ]
          },
          "metadata": {
            "tags": [],
            "needs_background": "light"
          }
        }
      ]
    },
    {
      "cell_type": "code",
      "metadata": {
        "colab": {
          "base_uri": "https://localhost:8080/"
        },
        "id": "F_MjOQkn5aTE",
        "outputId": "953c4c97-156b-4a83-bc65-1e6195479f1c"
      },
      "source": [
        "def decode_sentiment(score):\r\n",
        "    return \"Positive\" if score>0.5 else \"Negative\"\r\n",
        "\r\n",
        "\r\n",
        "scores = model.predict(x_test, verbose=1, batch_size=10000)\r\n",
        "y_pred_1d = [decode_sentiment(score) for score in scores]"
      ],
      "execution_count": null,
      "outputs": [
        {
          "output_type": "stream",
          "text": [
            "32/32 [==============================] - 5s 148ms/step\n"
          ],
          "name": "stdout"
        }
      ]
    },
    {
      "cell_type": "code",
      "metadata": {
        "id": "KbRHQ18M5aTF",
        "colab": {
          "base_uri": "https://localhost:8080/",
          "height": 370
        },
        "outputId": "59f459b5-3aeb-403e-ddc0-3d45045c9075"
      },
      "source": [
        "import itertools\r\n",
        "from sklearn.metrics import confusion_matrix, classification_report, accuracy_score\r\n",
        "def plot_confusion_matrix(cm, classes,\r\n",
        "                          title='Confusion matrix',\r\n",
        "                          cmap=plt.cm.Blues):\r\n",
        "    \"\"\"\r\n",
        "    This function prints and plots the confusion matrix.\r\n",
        "    Normalization can be applied by setting `normalize=True`.\r\n",
        "    \"\"\"\r\n",
        "\r\n",
        "    cm = cm.astype('float') / cm.sum(axis=1)[:, np.newaxis]\r\n",
        "\r\n",
        "    plt.imshow(cm, interpolation='nearest', cmap=cmap)\r\n",
        "    plt.title(title, fontsize=20)\r\n",
        "    plt.colorbar()\r\n",
        "    tick_marks = np.arange(len(classes))\r\n",
        "    plt.xticks(tick_marks, classes, fontsize=13)\r\n",
        "    plt.yticks(tick_marks, classes, fontsize=13)\r\n",
        "\r\n",
        "    fmt = '.2f'\r\n",
        "    thresh = cm.max() / 2.\r\n",
        "    for i, j in itertools.product(range(cm.shape[0]), range(cm.shape[1])):\r\n",
        "        plt.text(j, i, format(cm[i, j], fmt),\r\n",
        "                 horizontalalignment=\"center\",\r\n",
        "                 color=\"white\" if cm[i, j] > thresh else \"black\")\r\n",
        "\r\n",
        "    plt.ylabel('True label', fontsize=17)\r\n",
        "    plt.xlabel('Predicted label', fontsize=17)\r\n",
        "\r\n",
        "cnf_matrix = confusion_matrix(test_data.sentiment.to_list(), y_pred_1d)\r\n",
        "plt.figure(figsize=(6,6))\r\n",
        "plot_confusion_matrix(cnf_matrix, classes=test_data.sentiment.unique(), title=\"Confusion matrix\")\r\n",
        "plt.show()\r\n"
      ],
      "execution_count": null,
      "outputs": [
        {
          "output_type": "display_data",
          "data": {
            "image/png": "[encoded data removed]",
            "text/plain": [
              "<Figure size 432x432 with 2 Axes>"
            ]
          },
          "metadata": {
            "tags": [],
            "needs_background": "light"
          }
        }
      ]
    },
    {
      "cell_type": "code",
      "metadata": {
        "colab": {
          "base_uri": "https://localhost:8080/"
        },
        "id": "A6LfS8xR5aTJ",
        "outputId": "6f6a7b01-9724-4489-b2d5-123c8e0d925a"
      },
      "source": [
        "print(classification_report(list(test_data.sentiment), y_pred_1d))"
      ],
      "execution_count": null,
      "outputs": [
        {
          "output_type": "stream",
          "text": [
            "              precision    recall  f1-score   support\n",
            "\n",
            "    Negative       0.75      0.79      0.77    160032\n",
            "    Positive       0.78      0.74      0.76    159968\n",
            "\n",
            "    accuracy                           0.76    320000\n",
            "   macro avg       0.76      0.76      0.76    320000\n",
            "weighted avg       0.76      0.76      0.76    320000\n",
            "\n"
          ],
          "name": "stdout"
        }
      ]
    },
    {
      "cell_type": "code",
      "metadata": {
        "id": "XJlabeQK5aTK"
      },
      "source": [
        ""
      ],
      "execution_count": null,
      "outputs": []
    },
    {
      "cell_type": "markdown",
      "metadata": {
        "id": "ue4KhBnc5aTK"
      },
      "source": [
        "### Interacting with the trained model"
      ]
    },
    {
      "cell_type": "code",
      "metadata": {
        "colab": {
          "base_uri": "https://localhost:8080/"
        },
        "id": "G0uSiO915aTL",
        "outputId": "00575dba-8cff-4475-a624-de9b83765c7a"
      },
      "source": [
        "custom_texts = [ \"The universe is a good place\" ,\r\n",
        "                 \"The universe is a bad place\"\r\n",
        "          ]\r\n",
        "\r\n",
        "x_custom = pad_sequences(tokenizer.texts_to_sequences(custom_texts),\r\n",
        "                        maxlen = MAX_SEQUENCE_LENGTH)\r\n",
        "\r\n",
        "print(\"^ this gets represented as:\", x_custom)"
      ],
      "execution_count": null,
      "outputs": [
        {
          "output_type": "stream",
          "text": [
            "^ this gets represented as: [[   0    0    0    0    0    0    0    0    0    0    0    0    0    0\n",
            "     0    0    0    0    0    0    0    0    0    0    0    0    0 2750\n",
            "     1  302]\n",
            " [   0    0    0    0    0    0    0    0    0    0    0    0    0    0\n",
            "     0    0    0    0    0    0    0    0    0    0    0    0    0 2750\n",
            "    49  302]]\n"
          ],
          "name": "stdout"
        }
      ]
    },
    {
      "cell_type": "code",
      "metadata": {
        "colab": {
          "base_uri": "https://localhost:8080/"
        },
        "id": "B1bnVRyJ5aTM",
        "outputId": "c47dab33-82f3-4035-b327-1251a0aae10e"
      },
      "source": [
        "scores_custom = model.predict(x_custom, verbose=1, batch_size=10000)\r\n",
        "print(\"model prediction:\", scores_custom)\r\n",
        "y_pred_1d_custom = [decode_sentiment(score) for score in scores_custom]\r\n",
        "print(\"decoded:\", y_pred_1d_custom)"
      ],
      "execution_count": null,
      "outputs": [
        {
          "output_type": "stream",
          "text": [
            "1/1 [==============================] - 0s 392ms/step\n",
            "model prediction: [[0.8874308 ]\n",
            " [0.08835886]]\n",
            "decoded: ['Positive', 'Negative']\n"
          ],
          "name": "stdout"
        }
      ]
    },
    {
      "cell_type": "markdown",
      "metadata": {
        "id": "D0W3TMi8Ah-z"
      },
      "source": [
        "\n",
        "\n",
        "> PS: using the whole dataset would also help ....\n",
        "\n"
      ]
    },
    {
      "cell_type": "markdown",
      "metadata": {
        "id": "mfZ0B8RxCN0Z"
      },
      "source": [
        "# Possible tasks:"
      ]
    },
    {
      "cell_type": "markdown",
      "metadata": {
        "id": "jciOyAdDCRrp"
      },
      "source": [
        "\n",
        "\n",
        "1.   Try **interacting** with the trained model. Is there something that would **break** it?\n",
        "2.   Could you write **your own function** that will ask the user for input (for example via the python \"input()\" function) and **use the pretrained model** to infer the sentiment of it?\n",
        "3.   Could you do the same but with loading a saved .h5 model file - aka that it would work as a **separate piece of code** later for some other project (imagine this being a single box in your own custom pipeline).\n",
        "4.   *(Bonus) Try if Poincare GloVe works better than the usual one - paper here https://arxiv.org/pdf/1810.06546.pdf, code here https://github.com/alex-tifrea/poincare_glove, but maybe start with downloading the desired pre-trained models from here https://polybox.ethz.ch/index.php/s/TzX6cXGqCX5KvAn (it might be as easy as replacing the loaded text file)*\n"
      ]
    }
  ]
}